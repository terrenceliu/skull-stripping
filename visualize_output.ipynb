{
 "cells": [
  {
   "cell_type": "code",
   "execution_count": 37,
   "metadata": {
    "collapsed": true
   },
   "outputs": [],
   "source": [
    "import imageio\n",
    "import os, sys\n",
    "from skimage import transform"
   ]
  },
  {
   "cell_type": "code",
   "execution_count": 38,
   "metadata": {},
   "outputs": [],
   "source": [
    "input_path = \"./data/output/test_0_ep50_stp1000_td3_seq2\"\n",
    "start_index = 256\n",
    "end_index = 275"
   ]
  },
  {
   "cell_type": "code",
   "execution_count": 39,
   "metadata": {
    "collapsed": true
   },
   "outputs": [
    {
     "name": "stdout",
     "output_type": "stream",
     "text": [
      "276\n"
     ]
    }
   ],
   "source": [
    "img_path = {}\n",
    "mask_path = {}\n",
    "\n",
    "# Extract Image\n",
    "for root, dirs, files in os.walk(input_path):\n",
    "    for f in files:\n",
    "        if f.endswith(\".png\"):\n",
    "            \n",
    "            if \"mask\" in f:\n",
    "                id = int(f.split(\"_\")[0])\n",
    "                mask_path[id] = os.path.join(root, f)\n",
    "            if \"mask\" not in f and \"pred\" not in f:\n",
    "                id = int(f.split(\".png\")[0])\n",
    "                img_path[id] = os.path.join(root, f)\n",
    "\n",
    "# print(img_path.items())\n",
    "# print(mask_path.items())\n",
    "\n",
    "print(len(img_path.keys()))"
   ]
  },
  {
   "cell_type": "code",
   "execution_count": 40,
   "metadata": {
    "collapsed": true
   },
   "outputs": [
    {
     "name": "stderr",
     "output_type": "stream",
     "text": [
      "C:\\dev\\skull-strip\\venv\\lib\\site-packages\\skimage\\transform\\_warps.py:110: UserWarning: Anti-aliasing will be enabled by default in skimage 0.15 to avoid aliasing artifacts when down-sampling images.\n  warn(\"Anti-aliasing will be enabled by default in skimage 0.15 to \"\n"
     ]
    },
    {
     "name": "stdout",
     "output_type": "stream",
     "text": [
      "./data/output/test_0_ep50_stp1000_td3_seq2\\256_mask.png ./data/output/test_0_ep50_stp1000_td3_seq2\\256.png\n./data/output/test_0_ep50_stp1000_td3_seq2\\257_mask.png ./data/output/test_0_ep50_stp1000_td3_seq2\\257.png\n./data/output/test_0_ep50_stp1000_td3_seq2\\258_mask.png ./data/output/test_0_ep50_stp1000_td3_seq2\\258.png\n./data/output/test_0_ep50_stp1000_td3_seq2\\259_mask.png ./data/output/test_0_ep50_stp1000_td3_seq2\\259.png\n"
     ]
    },
    {
     "name": "stdout",
     "output_type": "stream",
     "text": [
      "./data/output/test_0_ep50_stp1000_td3_seq2\\260_mask.png ./data/output/test_0_ep50_stp1000_td3_seq2\\260.png\n./data/output/test_0_ep50_stp1000_td3_seq2\\261_mask.png ./data/output/test_0_ep50_stp1000_td3_seq2\\261.png\n./data/output/test_0_ep50_stp1000_td3_seq2\\262_mask.png ./data/output/test_0_ep50_stp1000_td3_seq2\\262.png\n./data/output/test_0_ep50_stp1000_td3_seq2\\263_mask.png"
     ]
    },
    {
     "name": "stdout",
     "output_type": "stream",
     "text": [
      " ./data/output/test_0_ep50_stp1000_td3_seq2\\263.png\n./data/output/test_0_ep50_stp1000_td3_seq2\\264_mask.png ./data/output/test_0_ep50_stp1000_td3_seq2\\264.png\n./data/output/test_0_ep50_stp1000_td3_seq2\\265_mask.png ./data/output/test_0_ep50_stp1000_td3_seq2\\265.png\n"
     ]
    },
    {
     "name": "stdout",
     "output_type": "stream",
     "text": [
      "./data/output/test_0_ep50_stp1000_td3_seq2\\266_mask.png ./data/output/test_0_ep50_stp1000_td3_seq2\\266.png\n./data/output/test_0_ep50_stp1000_td3_seq2\\267_mask.png ./data/output/test_0_ep50_stp1000_td3_seq2\\267.png\n./data/output/test_0_ep50_stp1000_td3_seq2\\268_mask.png ./data/output/test_0_ep50_stp1000_td3_seq2\\268.png\n./data/output/test_0_ep50_stp1000_td3_seq2\\269_mask.png ./data/output/test_0_ep50_stp1000_td3_seq2\\269.png\n"
     ]
    },
    {
     "name": "stdout",
     "output_type": "stream",
     "text": [
      "./data/output/test_0_ep50_stp1000_td3_seq2\\270_mask.png ./data/output/test_0_ep50_stp1000_td3_seq2\\270.png\n./data/output/test_0_ep50_stp1000_td3_seq2\\271_mask.png ./data/output/test_0_ep50_stp1000_td3_seq2\\271.png\n./data/output/test_0_ep50_stp1000_td3_seq2\\272_mask.png ./data/output/test_0_ep50_stp1000_td3_seq2\\272.png\n./data/output/test_0_ep50_stp1000_td3_seq2\\273_mask.png ./data/output/test_0_ep50_stp1000_td3_seq2\\273.png\n"
     ]
    },
    {
     "name": "stderr",
     "output_type": "stream",
     "text": [
      "WARNING:root:Lossy conversion from float64 to uint8. Range [0.0, 255.0]. Convert image to uint8 prior to saving to suppress this warning.\n"
     ]
    },
    {
     "name": "stderr",
     "output_type": "stream",
     "text": [
      "WARNING:root:Lossy conversion from float64 to uint8. Range [0.0, 255.0]. Convert image to uint8 prior to saving to suppress this warning.\n"
     ]
    },
    {
     "name": "stderr",
     "output_type": "stream",
     "text": [
      "WARNING:root:Lossy conversion from float64 to uint8. Range [0.0, 255.0]. Convert image to uint8 prior to saving to suppress this warning.\n"
     ]
    },
    {
     "name": "stderr",
     "output_type": "stream",
     "text": [
      "WARNING:root:Lossy conversion from float64 to uint8. Range [0.0, 255.0]. Convert image to uint8 prior to saving to suppress this warning.\n"
     ]
    },
    {
     "name": "stderr",
     "output_type": "stream",
     "text": [
      "WARNING:root:Lossy conversion from float64 to uint8. Range [0.0, 255.0]. Convert image to uint8 prior to saving to suppress this warning.\n"
     ]
    },
    {
     "name": "stderr",
     "output_type": "stream",
     "text": [
      "WARNING:root:Lossy conversion from float64 to uint8. Range [0.0, 255.0]. Convert image to uint8 prior to saving to suppress this warning.\n"
     ]
    },
    {
     "name": "stderr",
     "output_type": "stream",
     "text": [
      "WARNING:root:Lossy conversion from float64 to uint8. Range [0.0, 255.0]. Convert image to uint8 prior to saving to suppress this warning.\n"
     ]
    },
    {
     "name": "stderr",
     "output_type": "stream",
     "text": [
      "WARNING:root:Lossy conversion from float64 to uint8. Range [0.0, 255.0]. Convert image to uint8 prior to saving to suppress this warning.\n"
     ]
    },
    {
     "name": "stdout",
     "output_type": "stream",
     "text": [
      "./data/output/test_0_ep50_stp1000_td3_seq2\\274_mask.png ./data/output/test_0_ep50_stp1000_td3_seq2\\274.png\n"
     ]
    },
    {
     "name": "stderr",
     "output_type": "stream",
     "text": [
      "WARNING:root:Lossy conversion from float64 to uint8. Range [0.0, 255.0]. Convert image to uint8 prior to saving to suppress this warning.\n"
     ]
    },
    {
     "name": "stderr",
     "output_type": "stream",
     "text": [
      "WARNING:root:Lossy conversion from float64 to uint8. Range [0.0, 255.0]. Convert image to uint8 prior to saving to suppress this warning."
     ]
    },
    {
     "name": "stderr",
     "output_type": "stream",
     "text": [
      "\n"
     ]
    },
    {
     "name": "stderr",
     "output_type": "stream",
     "text": [
      "WARNING:root:Lossy conversion from float64 to uint8. Range [0.0, 255.0]. Convert image to uint8 prior to saving to suppress this warning.\n"
     ]
    },
    {
     "name": "stderr",
     "output_type": "stream",
     "text": [
      "WARNING:root:Lossy conversion from float64 to uint8. Range [0.0, 255.0]. Convert image to uint8 prior to saving to suppress this warning.\n"
     ]
    },
    {
     "name": "stderr",
     "output_type": "stream",
     "text": [
      "WARNING:root:Lossy conversion from float64 to uint8. Range [0.0, 255.0]. Convert image to uint8 prior to saving to suppress this warning.\n"
     ]
    },
    {
     "name": "stderr",
     "output_type": "stream",
     "text": [
      "WARNING:root:Lossy conversion from float64 to uint8. Range [0.0, 255.0]. Convert image to uint8 prior to saving to suppress this warning.\n"
     ]
    },
    {
     "name": "stderr",
     "output_type": "stream",
     "text": [
      "WARNING:root:Lossy conversion from float64 to uint8. Range [0.0, 255.0]. Convert image to uint8 prior to saving to suppress this warning."
     ]
    },
    {
     "name": "stderr",
     "output_type": "stream",
     "text": [
      "\n"
     ]
    },
    {
     "name": "stderr",
     "output_type": "stream",
     "text": [
      "WARNING:root:Lossy conversion from float64 to uint8. Range [0.0, 255.0]. Convert image to uint8 prior to saving to suppress this warning.\n"
     ]
    },
    {
     "name": "stderr",
     "output_type": "stream",
     "text": [
      "WARNING:root:Lossy conversion from float64 to uint8. Range [0.0, 255.0]. Convert image to uint8 prior to saving to suppress this warning.\n"
     ]
    },
    {
     "name": "stderr",
     "output_type": "stream",
     "text": [
      "WARNING:root:Lossy conversion from float64 to uint8. Range [0.0, 255.0]. Convert image to uint8 prior to saving to suppress this warning.\n"
     ]
    },
    {
     "name": "stderr",
     "output_type": "stream",
     "text": [
      "WARNING:root:Lossy conversion from float64 to uint8. Range [0.0, 255.0]. Convert image to uint8 prior to saving to suppress this warning.\n"
     ]
    }
   ],
   "source": [
    "# Filter\n",
    "images = []\n",
    "masks = []\n",
    "for i in range(start_index, end_index if end_index < len(img_path.keys()) else len(img_path.keys())):\n",
    "    img = imageio.imread(img_path[i])\n",
    "    resize = transform.resize(img, (256,256), mode='symmetric', preserve_range=True)\n",
    "    images.append(resize)\n",
    "    masks.append(imageio.imread(mask_path[i]))\n",
    "    print(mask_path[i], img_path[i])\n",
    "    \n",
    "\n",
    "imageio.mimwrite(\"./data/output/gif/\" + input_path.split(\"/\")[-1] + \"_\" + str(start_index) + \"-\" + str(end_index) + \"_img_256.gif\", images, \n",
    "                 duration=0.5)\n",
    "imageio.mimwrite(\"./data/output/gif/\" + input_path.split(\"/\")[-1] + \"_\" + str(start_index) + \"-\" + str(end_index) + \"_mask_256.gif\", masks, \n",
    "                 duration=0.5)"
   ]
  },
  {
   "cell_type": "code",
   "execution_count": null,
   "metadata": {},
   "outputs": [],
   "source": []
  }
 ],
 "metadata": {
  "kernelspec": {
   "display_name": "Python 2",
   "language": "python",
   "name": "python2"
  },
  "language_info": {
   "codemirror_mode": {
    "name": "ipython",
    "version": 2
   },
   "file_extension": ".py",
   "mimetype": "text/x-python",
   "name": "python",
   "nbconvert_exporter": "python",
   "pygments_lexer": "ipython2",
   "version": "2.7.6"
  }
 },
 "nbformat": 4,
 "nbformat_minor": 0
}
