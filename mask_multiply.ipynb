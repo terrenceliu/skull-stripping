{
 "cells": [
  {
   "cell_type": "code",
   "execution_count": 6,
   "metadata": {
    "collapsed": true
   },
   "outputs": [],
   "source": [
    "import skimage.io as io\n",
    "from skimage import transform\n",
    "import matplotlib.pyplot as plt\n",
    "import numpy\n",
    "import os\n",
    "import warnings\n"
   ]
  },
  {
   "cell_type": "code",
   "execution_count": 7,
   "metadata": {
    "collapsed": true
   },
   "outputs": [],
   "source": [
    "# Get input path\n",
    "search_path = \"./data/train_data/output\"\n",
    "\n",
    "input_array = []\n",
    "\n",
    "for root, dirs, files in os.walk(search_path):\n",
    "    for dir in dirs:\n",
    "        p = os.path.join(root, dir)\n",
    "        input_array.append(os.path.join(root, dir))\n"
   ]
  },
  {
   "cell_type": "code",
   "execution_count": 8,
   "metadata": {
    "collapsed": true
   },
   "outputs": [
    {
     "name": "stdout",
     "output_type": "stream",
     "text": [
      "./data/output/test_1_ep10_stp500_mod\nImg map: 322\nMask map: 322\n"
     ]
    },
    {
     "name": "stdout",
     "output_type": "stream",
     "text": [
      "err. img = %s ./data/output/test_1_ep10_stp500_mod\\seq\\322.png\n"
     ]
    },
    {
     "name": "stdout",
     "output_type": "stream",
     "text": [
      "./data/output/test_0_ep10_stp500_mod\nImg map: 322\nMask map: 322\n"
     ]
    },
    {
     "name": "stdout",
     "output_type": "stream",
     "text": [
      "err. img = %s ./data/output/test_0_ep10_stp500_mod\\seq\\322.png\n"
     ]
    },
    {
     "name": "stdout",
     "output_type": "stream",
     "text": [
      "data/output/test_1_ep5_stp1500_mod\nImg map: 322\nMask map: 322\n"
     ]
    },
    {
     "name": "stdout",
     "output_type": "stream",
     "text": [
      "err. img = %s data/output/test_1_ep5_stp1500_mod\\seq\\322.png\n"
     ]
    }
   ],
   "source": [
    "warnings.filterwarnings(\"ignore\")\n",
    "\n",
    "input_array = [\"./data/output/test_1_ep10_stp500_mod\", \"./data/output/test_0_ep10_stp500_mod\",\n",
    "               \"data/output/test_1_ep5_stp1500_mod\"]\n",
    "for input_path in input_array:    \n",
    "    # Read in image\n",
    "    \n",
    "    print(input_path)\n",
    "    \n",
    "    # Read image\n",
    "    \n",
    "    img_map = {}\n",
    "    mask_map = {}\n",
    "    \n",
    "    for root, dirs, files in os.walk(input_path):\n",
    "        for file in files:\n",
    "            if file.endswith(\".png\"):\n",
    "                tag = int(file.rstrip(\".png\").split(\"_\")[0])\n",
    "                if \"pred\" in file:\n",
    "                    mask_map[tag] = (root, file)\n",
    "                elif \"_\" not in file:\n",
    "                    img_map[tag] = (root, file)\n",
    "    \n",
    "    print(\"Img map: %d\" % len(img_map.keys()))\n",
    "    print(\"Mask map: %d\" % len(mask_map.keys()))\n",
    "    \n",
    "    \n",
    "    # Batch Convert\n",
    "    for k, v in img_map.items():\n",
    "        img_path = os.path.join(v[0], v[1])\n",
    "        img = io.imread(img_path, as_gray=True)\n",
    "        \n",
    "        img = transform.resize(img, (256, 256))\n",
    "        \n",
    "        try:\n",
    "            mask_val = mask_map.get(k)\n",
    "            mask_path = os.path.join(mask_val[0], mask_val[1])\n",
    "            mask = io.imread(mask_path, as_gray=True)\n",
    "            \n",
    "            # Process mask\n",
    "            mask = mask * 1.0 / 255\n",
    "            img = img * 1.0\n",
    "            \n",
    "            res = img * mask\n",
    "            \n",
    "            outpath = os.path.join(v[0], v[1].rstrip(\".png\") + \"_mask.png\")\n",
    "        \n",
    "            plt.imsave(outpath, res, cmap=plt.get_cmap(\"gray\"))\n",
    "        except:\n",
    "            print(\"err. img = %s\", img_path)\n",
    "        \n",
    "        \n",
    "        \n",
    "        \n",
    "        "
   ]
  },
  {
   "cell_type": "code",
   "execution_count": null,
   "metadata": {},
   "outputs": [],
   "source": []
  }
 ],
 "metadata": {
  "kernelspec": {
   "display_name": "Python 2",
   "language": "python",
   "name": "python2"
  },
  "language_info": {
   "codemirror_mode": {
    "name": "ipython",
    "version": 2
   },
   "file_extension": ".py",
   "mimetype": "text/x-python",
   "name": "python",
   "nbconvert_exporter": "python",
   "pygments_lexer": "ipython2",
   "version": "2.7.6"
  }
 },
 "nbformat": 4,
 "nbformat_minor": 0
}
