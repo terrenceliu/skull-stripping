{
 "cells": [
  {
   "cell_type": "code",
<<<<<<< HEAD
   "execution_count": 1,
=======
   "execution_count": 13,
>>>>>>> 1abdf308f95f88130edf97be86f4d1ecc2020e0e
   "metadata": {
    "collapsed": true
   },
   "outputs": [],
   "source": [
    "import os\n",
    "import sys\n",
    "import numpy as np\n",
    "from PIL import Image\n",
    "import uuid"
   ]
  },
  {
   "cell_type": "code",
<<<<<<< HEAD
   "execution_count": 2,
=======
   "execution_count": 14,
>>>>>>> 1abdf308f95f88130edf97be86f4d1ecc2020e0e
   "metadata": {},
   "outputs": [],
   "source": [
    "origin_path = \"./data/train_data/origin\"\n",
    "mask_path = \"./data/train_data/mask\"\n",
    "test_path = \"./data/test_data\"\n"
   ]
  },
  {
   "cell_type": "code",
   "execution_count": 15,
   "metadata": {},
   "outputs": [],
   "source": [
    "# Convert tif to png\n",
    "for root, dirs, files in os.walk(mask_path):\n",
    "    for file in files:\n",
    "        img = Image.open(os.path.join(root, file))\n",
    "        if \".tif\" in file:\n",
    "            img_name = os.path.join(root, file).rstrip(\".tif\") + \".png\"\n",
    "            img.save(img_name)"
   ]
  },
  {
   "cell_type": "code",
   "execution_count": 16,
   "metadata": {},
   "outputs": [
    {
     "name": "stdout",
     "output_type": "stream",
     "text": [
      "Origin Files:  246\nMask Files:  246\n"
     ]
    }
   ],
   "source": [
    "origin_dict = {}\n",
    "\n",
    "for root, dirs, files in os.walk(origin_path):\n",
    "    for file in files:\n",
    "        if file.endswith(\".png\"):\n",
    "            origin_dict[file.rstrip(\".png\")] = (root, file)\n",
    "            \n",
    "\n",
    "origin_files = origin_dict.keys()\n",
    "mask_dict = {}\n",
    "for root, dirs, files in os.walk(mask_path):\n",
    "    for file in files:\n",
    "        if file.endswith(\".png\"):\n",
    "            if file.rstrip(\".png\") not in origin_files:\n",
    "                print(file)\n",
    "            mask_dict[file.rstrip(\".png\")] = (root, file)\n",
    "            \n",
    "print(\"Origin Files: \", len(origin_dict.keys()))\n",
    "print(\"Mask Files: \", len(mask_dict.keys()))\n",
    "\n",
    "# Find missing\n",
    "for k in origin_dict.keys():\n",
    "    if k not in mask_dict.keys():\n",
    "        print(k, origin_dict[k])\n",
    "\n",
    "for k in mask_dict.keys():\n",
    "    if k not in origin_dict.keys():\n",
    "        print(k, mask_dict[k])\n"
   ]
  },
  {
   "cell_type": "code",
   "execution_count": 11,
   "metadata": {},
   "outputs": [
    {
     "ename": "PermissionError",
     "evalue": "[WinError 32] The process cannot access the file because it is being used by another process: './data/train_data/mask\\\\fd197ed9-6996-4e49-9fc9-6d5371637878.png' -> './data/train_data/mask\\\\61e09c70-f307-430d-80d8-eee2c29148db.png'",
     "traceback": [
      "\u001b[0;31m---------------------------------------------------------------------------\u001b[0m",
      "\u001b[0;31mPermissionError\u001b[0m                           Traceback (most recent call last)",
      "\u001b[0;32m<ipython-input-11-b4f84fd52c79>\u001b[0m in \u001b[0;36m<module>\u001b[0;34m()\u001b[0m\n\u001b[1;32m     12\u001b[0m     \u001b[0mmask_file\u001b[0m \u001b[0;34m=\u001b[0m \u001b[0mmask_dict\u001b[0m\u001b[0;34m[\u001b[0m\u001b[0mk\u001b[0m\u001b[0;34m]\u001b[0m\u001b[0;34m[\u001b[0m\u001b[0;36m1\u001b[0m\u001b[0;34m]\u001b[0m\u001b[0;34m\u001b[0m\u001b[0m\n\u001b[1;32m     13\u001b[0m     \u001b[0mnew_mask\u001b[0m \u001b[0;34m=\u001b[0m \u001b[0mos\u001b[0m\u001b[0;34m.\u001b[0m\u001b[0mpath\u001b[0m\u001b[0;34m.\u001b[0m\u001b[0mjoin\u001b[0m\u001b[0;34m(\u001b[0m\u001b[0mmask_root\u001b[0m\u001b[0;34m,\u001b[0m \u001b[0mstr\u001b[0m\u001b[0;34m(\u001b[0m\u001b[0mrand_id\u001b[0m\u001b[0;34m)\u001b[0m \u001b[0;34m+\u001b[0m \u001b[0;34m\".png\"\u001b[0m\u001b[0;34m)\u001b[0m\u001b[0;34m\u001b[0m\u001b[0m\n\u001b[0;32m---> 14\u001b[0;31m     \u001b[0mos\u001b[0m\u001b[0;34m.\u001b[0m\u001b[0mrename\u001b[0m\u001b[0;34m(\u001b[0m\u001b[0mos\u001b[0m\u001b[0;34m.\u001b[0m\u001b[0mpath\u001b[0m\u001b[0;34m.\u001b[0m\u001b[0mjoin\u001b[0m\u001b[0;34m(\u001b[0m\u001b[0mmask_root\u001b[0m\u001b[0;34m,\u001b[0m \u001b[0mmask_file\u001b[0m\u001b[0;34m)\u001b[0m\u001b[0;34m,\u001b[0m \u001b[0mnew_mask\u001b[0m\u001b[0;34m)\u001b[0m\u001b[0;34m\u001b[0m\u001b[0m\n\u001b[0m\u001b[1;32m     15\u001b[0m     \u001b[0;31m# print(new_mask)\u001b[0m\u001b[0;34m\u001b[0m\u001b[0;34m\u001b[0m\u001b[0m\n\u001b[1;32m     16\u001b[0m \u001b[0;34m\u001b[0m\u001b[0m\n",
      "\u001b[0;31mPermissionError\u001b[0m: [WinError 32] The process cannot access the file because it is being used by another process: './data/train_data/mask\\\\fd197ed9-6996-4e49-9fc9-6d5371637878.png' -> './data/train_data/mask\\\\61e09c70-f307-430d-80d8-eee2c29148db.png'"
     ],
     "output_type": "error"
    }
   ],
   "source": [
    "# Random Assign UUID to Training Image\n",
    "id = 0\n",
    "for k, v in origin_dict.items():\n",
    "    origin_root = v[0]\n",
    "    origin_file = v[1]\n",
    "    rand_id = uuid.uuid4()\n",
    "    new_origin = os.path.join(origin_root, str(rand_id) + \".png\")\n",
    "    os.rename(os.path.join(origin_root, origin_file), new_origin)\n",
    "    # print (new_origin)\n",
    "    \n",
    "    mask_root = mask_dict[k][0]\n",
    "    mask_file = mask_dict[k][1]\n",
    "    new_mask = os.path.join(mask_root, str(rand_id) + \".png\")\n",
    "    os.rename(os.path.join(mask_root, mask_file), new_mask)\n",
    "    # print(new_mask)\n",
    "    \n",
    "    id += 1\n"
   ]
  },
  {
   "cell_type": "code",
<<<<<<< HEAD
   "execution_count": 13,
=======
   "execution_count": 11,
>>>>>>> 1abdf308f95f88130edf97be86f4d1ecc2020e0e
   "metadata": {},
   "outputs": [
    {
     "name": "stdout",
     "output_type": "stream",
     "text": [
<<<<<<< HEAD
      "276 255\n276 275\n"
=======
      "233\n"
>>>>>>> 1abdf308f95f88130edf97be86f4d1ecc2020e0e
     ]
    }
   ],
   "source": [
    "# Rename Test Image\n",
    "\n",
    "\n",
    "id = 0\n",
    "\n",
<<<<<<< HEAD
    "max_id = -1\n",
    "\n",
    "# Find max id\n",
    "for root, dirs, files in os.walk(test_path):\n",
    "    for file in files:\n",
    "        \n",
    "        if (len(file.split(\".\")) == 2):\n",
    "            num = int(file.split(\".\")[0])\n",
    "            if (num > max_id):\n",
    "                max_id = num\n",
    "        id += 1\n",
    "print(id, max_id)\n",
    "\n",
    "# Renmae\n",
    "for root, dirs, files in os.walk(test_path):\n",
    "    for file in files:\n",
    "        \n",
    "        if (len(file.split(\".\")) != 2):\n",
    "            max_id += 1\n",
    "            new_name = os.path.join(root, str(max_id) + \".png\")\n",
    "            os.rename(os.path.join(root, file), new_name)\n",
    "            \n",
    "print(id, max_id)"
=======
    "for root, dirs, files in os.walk(test_path):\n",
    "    for file in files:\n",
    "        new_name = os.path.join(root, str(id) + \".png\")\n",
    "        os.rename(os.path.join(root, file), new_name)\n",
    "        id += 1\n",
    "print(id)\n"
>>>>>>> 1abdf308f95f88130edf97be86f4d1ecc2020e0e
   ]
  },
  {
   "cell_type": "code",
   "execution_count": 14,
   "metadata": {},
   "outputs": [
    {
     "name": "stdout",
     "output_type": "stream",
     "text": [
      "322\n"
     ]
    }
   ],
   "source": [
    "file_dict = {}\n",
    "for root, dirs, files in os.walk(test_path):\n",
    "    for file in files:\n",
    "        file_dict[int(file.rstrip(\".png\"))] = os.path.join(root, file)\n",
    "\n",
    "k_srt = sorted(file_dict.keys())\n",
    "print(len(k_srt))\n",
    "\n",
    "    "
   ]
  },
  {
   "cell_type": "code",
   "execution_count": null,
   "metadata": {},
   "outputs": [],
   "source": []
  }
 ],
 "metadata": {
  "kernelspec": {
   "display_name": "Python 2",
   "language": "python",
   "name": "python2"
  },
  "language_info": {
   "codemirror_mode": {
    "name": "ipython",
    "version": 2
   },
   "file_extension": ".py",
   "mimetype": "text/x-python",
   "name": "python",
   "nbconvert_exporter": "python",
   "pygments_lexer": "ipython2",
   "version": "2.7.6"
  }
 },
 "nbformat": 4,
 "nbformat_minor": 0
}
