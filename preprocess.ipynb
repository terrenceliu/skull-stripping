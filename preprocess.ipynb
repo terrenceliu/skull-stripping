{
 "cells": [
  {
   "cell_type": "code",
   "execution_count": 12,
   "metadata": {
    "collapsed": true
   },
   "outputs": [],
   "source": [
    "import os\n",
    "import sys\n",
    "import numpy as np\n",
    "from PIL import Image\n",
    "import uuid"
   ]
  },
  {
   "cell_type": "code",
   "execution_count": 13,
   "metadata": {},
   "outputs": [],
   "source": [
    "origin_path = \"./data/train_data/origin\"\n",
    "mask_path = \"./data/train_data/mask\"\n",
    "test_path = \"./data/test_data\"\n"
   ]
  },
  {
   "cell_type": "code",
   "execution_count": 14,
   "metadata": {},
   "outputs": [],
   "source": [
    "# Convert tif to png\n",
    "for root, dirs, files in os.walk(mask_path):\n",
    "    for file in files:\n",
    "        img = Image.open(os.path.join(root, file))\n",
    "        if \".tif\" in file:\n",
    "            img_name = os.path.join(root, file).rstrip(\".tif\") + \".png\"\n",
    "            img.save(img_name)"
   ]
  },
  {
   "cell_type": "code",
   "execution_count": 15,
   "metadata": {},
   "outputs": [
    {
     "name": "stdout",
     "output_type": "stream",
     "text": [
      "Origin Files:  117\nMask Files:  117\n"
     ]
    }
   ],
   "source": [
    "origin_dict = {}\n",
    "\n",
    "for root, dirs, files in os.walk(origin_path):\n",
    "    for file in files:\n",
    "        if file.endswith(\".png\"):\n",
    "            origin_dict[file.rstrip(\".png\")] = (root, file)\n",
    "            \n",
    "\n",
    "origin_files = origin_dict.keys()\n",
    "mask_dict = {}\n",
    "for root, dirs, files in os.walk(mask_path):\n",
    "    for file in files:\n",
    "        if file.endswith(\".png\"):\n",
    "            if file.rstrip(\".png\") not in origin_files:\n",
    "                print(file)\n",
    "            mask_dict[file.rstrip(\".png\")] = (root, file)\n",
    "            \n",
    "print(\"Origin Files: \", len(origin_dict.keys()))\n",
    "print(\"Mask Files: \", len(mask_dict.keys()))\n",
    "\n",
    "# Find missing\n",
    "for k in origin_dict.keys():\n",
    "    if k not in mask_dict.keys():\n",
    "        print(k, origin_dict[k])\n",
    "\n",
    "for k in mask_dict.keys():\n",
    "    if k not in origin_dict.keys():\n",
    "        print(k, mask_dict[k])\n"
   ]
  },
  {
   "cell_type": "code",
   "execution_count": 16,
   "metadata": {},
   "outputs": [],
   "source": [
    "# Random Assign UUID to Training Image\n",
    "id = 0\n",
    "for k, v in origin_dict.items():\n",
    "    origin_root = v[0]\n",
    "    origin_file = v[1]\n",
    "    rand_id = uuid.uuid4()\n",
    "    new_origin = os.path.join(origin_root, str(rand_id) + \".png\")\n",
    "    os.rename(os.path.join(origin_root, origin_file), new_origin)\n",
    "    # print (new_origin)\n",
    "    \n",
    "    mask_root = mask_dict[k][0]\n",
    "    mask_file = mask_dict[k][1]\n",
    "    new_mask = os.path.join(mask_root, str(rand_id) + \".png\")\n",
    "    os.rename(os.path.join(mask_root, mask_file), new_mask)\n",
    "    # print(new_mask)\n",
    "    \n",
    "    id += 1\n"
   ]
  },
  {
   "cell_type": "code",
   "execution_count": 11,
   "metadata": {},
   "outputs": [
    {
     "name": "stdout",
     "output_type": "stream",
     "text": [
      "233\n"
     ]
    }
   ],
   "source": [
    "# Rename Test Image\n",
    "\n",
    "\n",
    "id = 0\n",
    "\n",
    "for root, dirs, files in os.walk(test_path):\n",
    "    for file in files:\n",
    "        new_name = os.path.join(root, str(id) + \".png\")\n",
    "        os.rename(os.path.join(root, file), new_name)\n",
    "        id += 1\n",
    "print(id)\n"
   ]
  },
  {
   "cell_type": "code",
   "execution_count": 14,
   "metadata": {},
   "outputs": [
    {
     "name": "stdout",
     "output_type": "stream",
     "text": [
      "322\n"
     ]
    }
   ],
   "source": [
    "file_dict = {}\n",
    "for root, dirs, files in os.walk(test_path):\n",
    "    for file in files:\n",
    "        file_dict[int(file.rstrip(\".png\"))] = os.path.join(root, file)\n",
    "\n",
    "k_srt = sorted(file_dict.keys())\n",
    "print(len(k_srt))\n",
    "\n",
    "    "
   ]
  },
  {
   "cell_type": "code",
   "execution_count": null,
   "metadata": {},
   "outputs": [],
   "source": []
  }
 ],
 "metadata": {
  "kernelspec": {
   "display_name": "Python 2",
   "language": "python",
   "name": "python2"
  },
  "language_info": {
   "codemirror_mode": {
    "name": "ipython",
    "version": 2
   },
   "file_extension": ".py",
   "mimetype": "text/x-python",
   "name": "python",
   "nbconvert_exporter": "python",
   "pygments_lexer": "ipython2",
   "version": "2.7.6"
  }
 },
 "nbformat": 4,
 "nbformat_minor": 0
}
